{
 "cells": [
  {
   "cell_type": "code",
   "execution_count": 3,
   "metadata": {
    "collapsed": false
   },
   "outputs": [
    {
     "ename": "ValueError",
     "evalue": "'normalized' is not a parameter of Windowing",
     "output_type": "error",
     "traceback": [
      "\u001b[0;31m---------------------------------------------------------------------------\u001b[0m",
      "\u001b[0;31mValueError\u001b[0m                                Traceback (most recent call last)",
      "\u001b[0;32m<ipython-input-3-18108ee16b3e>\u001b[0m in \u001b[0;36m<module>\u001b[0;34m()\u001b[0m\n\u001b[1;32m     17\u001b[0m                     \u001b[0mzeroPadding\u001b[0m \u001b[0;34m=\u001b[0m \u001b[0mzeroPadding\u001b[0m\u001b[0;34m,\u001b[0m\u001b[0;34m\u001b[0m\u001b[0m\n\u001b[1;32m     18\u001b[0m                     \u001b[0mnormalized\u001b[0m \u001b[0;34m=\u001b[0m \u001b[0mFalse\u001b[0m\u001b[0;34m,\u001b[0m\u001b[0;34m\u001b[0m\u001b[0m\n\u001b[0;32m---> 19\u001b[0;31m                     zeroPhase = False)\n\u001b[0m",
      "\u001b[0;32m/usr/local/lib/python2.7/site-packages/essentia/standard.py\u001b[0m in \u001b[0;36m__init__\u001b[0;34m(self, **kwargs)\u001b[0m\n\u001b[1;32m     41\u001b[0m \u001b[0;34m\u001b[0m\u001b[0m\n\u001b[1;32m     42\u001b[0m             \u001b[0;31m# configure the algorithm\u001b[0m\u001b[0;34m\u001b[0m\u001b[0;34m\u001b[0m\u001b[0m\n\u001b[0;32m---> 43\u001b[0;31m             \u001b[0mself\u001b[0m\u001b[0;34m.\u001b[0m\u001b[0mconfigure\u001b[0m\u001b[0;34m(\u001b[0m\u001b[0;34m**\u001b[0m\u001b[0mkwargs\u001b[0m\u001b[0;34m)\u001b[0m\u001b[0;34m\u001b[0m\u001b[0m\n\u001b[0m\u001b[1;32m     44\u001b[0m \u001b[0;34m\u001b[0m\u001b[0m\n\u001b[1;32m     45\u001b[0m         \u001b[0;32mdef\u001b[0m \u001b[0mconfigure\u001b[0m\u001b[0;34m(\u001b[0m\u001b[0mself\u001b[0m\u001b[0;34m,\u001b[0m \u001b[0;34m**\u001b[0m\u001b[0mkwargs\u001b[0m\u001b[0;34m)\u001b[0m\u001b[0;34m:\u001b[0m\u001b[0;34m\u001b[0m\u001b[0m\n",
      "\u001b[0;32m/usr/local/lib/python2.7/site-packages/essentia/standard.py\u001b[0m in \u001b[0;36mconfigure\u001b[0;34m(self, **kwargs)\u001b[0m\n\u001b[1;32m     46\u001b[0m             \u001b[0;31m# verify that all types match and do any necessary conversions\u001b[0m\u001b[0;34m\u001b[0m\u001b[0;34m\u001b[0m\u001b[0m\n\u001b[1;32m     47\u001b[0m             \u001b[0;32mfor\u001b[0m \u001b[0mname\u001b[0m\u001b[0;34m,\u001b[0m \u001b[0mval\u001b[0m \u001b[0;32min\u001b[0m \u001b[0mkwargs\u001b[0m\u001b[0;34m.\u001b[0m\u001b[0miteritems\u001b[0m\u001b[0;34m(\u001b[0m\u001b[0;34m)\u001b[0m\u001b[0;34m:\u001b[0m\u001b[0;34m\u001b[0m\u001b[0m\n\u001b[0;32m---> 48\u001b[0;31m                 \u001b[0mgoalType\u001b[0m \u001b[0;34m=\u001b[0m \u001b[0mself\u001b[0m\u001b[0;34m.\u001b[0m\u001b[0mparamType\u001b[0m\u001b[0;34m(\u001b[0m\u001b[0mname\u001b[0m\u001b[0;34m)\u001b[0m\u001b[0;34m\u001b[0m\u001b[0m\n\u001b[0m\u001b[1;32m     49\u001b[0m                 \u001b[0;32mtry\u001b[0m\u001b[0;34m:\u001b[0m\u001b[0;34m\u001b[0m\u001b[0m\n\u001b[1;32m     50\u001b[0m                     \u001b[0mconvertedVal\u001b[0m \u001b[0;34m=\u001b[0m \u001b[0m_c\u001b[0m\u001b[0;34m.\u001b[0m\u001b[0mconvertData\u001b[0m\u001b[0;34m(\u001b[0m\u001b[0mval\u001b[0m\u001b[0;34m,\u001b[0m \u001b[0mgoalType\u001b[0m\u001b[0;34m)\u001b[0m\u001b[0;34m\u001b[0m\u001b[0m\n",
      "\u001b[0;31mValueError\u001b[0m: 'normalized' is not a parameter of Windowing"
     ]
    }
   ],
   "source": [
    "#### this reproduces the way htk extracts MFCC with the default configuration:\n",
    "# SOURCEFORMAT = WAV\n",
    "# TARGETKIND = MFCC_0\n",
    "# TARGETRATE = 100000.0\n",
    "# SAVECOMPRESSED = T\n",
    "# SAVEWITHCRC = T\n",
    "# WINDOWSIZE = 250000.0\n",
    "# USEHAMMING = T\n",
    "# PREEMCOEF = 0\n",
    "# NUMCHANS = 26\n",
    "# CEPLIFTER = 22\n",
    "# NUMCEPS = 12\n",
    "# ENORMALISE = F\n",
    "# HIFREQ=8000\n",
    "\n",
    "import essentia.standard as ess\n",
    "fs = 44100\n",
    "\n",
    "audio = ess.MonoLoader(filename = 'vignesh.wav', \n",
    "                                      sampleRate = fs)()\n",
    "# dynamic range expansion as done in HTK implementation\n",
    "audio = audio*2**15\n",
    "\n",
    "frameSize = 1102 # corresponds to htk default WINDOWSIZE = 250000.0 \n",
    "hopSize = 441 # corresponds to htk default TARGETRATE = 100000.0\n",
    "fftSize = 2048\n",
    "spectrumSize= fftSize//2+1\n",
    "zeroPadding = fftSize - frameSize\n",
    "\n",
    "w = ess.Windowing(type = 'hamming', #  corresponds to htk default  USEHAMMING = T\n",
    "                    size = frameSize, \n",
    "                    zeroPadding = zeroPadding,\n",
    "                    normalized = False,\n",
    "                    zeroPhase = False)\n",
    "\n",
    "spectrum = ess.Spectrum(size = fftSize)\n",
    "\n",
    "mfccEssentia = ess.MFCC(inputSize = spectrumSize,\n",
    "                    type = 'magnitude', # htk uses mel filterbank magniude\n",
    "                    warpingFormula = 'htkMel', # htk's mel warping formula\n",
    "                    weighting = 'linear', # computation of filter weights done in Hz domain\n",
    "                    highFrequencyBound = 8000, # corresponds to htk default\n",
    "                    lowFrequencyBound = 0, # corresponds to htk default\n",
    "                    numberBands = 26, # corresponds to htk default  NUMCHANS = 26\n",
    "                    numberCoefficients = 13,\n",
    "                    normalize = 'unit_max', # htk filter normaliation to have constant height = 1  \n",
    "                    dctType = 3, # htk uses DCT type III\n",
    "                    logType = 'log',\n",
    "                    liftering = 22) # corresponds to htk default CEPLIFTER = 22\n",
    "\n",
    "\n",
    "pool = Pool()\n",
    "# startFromZero = True, validFrameThresholdRatio = 1 : the way htk computes windows\n",
    "for frame in ess.FrameGenerator(audio, frameSize = frameSize, hopSize = hopSize , startFromZero = True, validFrameThresholdRatio = 1):\n",
    "    spect = spectrum(w(frame))\n",
    "    pool.add('MFCC',mfccEssentia(spect)[1])\n",
    "\n",
    "essentiaMFCC = np.array(pool['MFCC'].T);"
   ]
  },
  {
   "cell_type": "code",
   "execution_count": null,
   "metadata": {
    "collapsed": true
   },
   "outputs": [],
   "source": []
  }
 ],
 "metadata": {
  "kernelspec": {
   "display_name": "Python 2",
   "language": "python",
   "name": "python2"
  },
  "language_info": {
   "codemirror_mode": {
    "name": "ipython",
    "version": 2
   },
   "file_extension": ".py",
   "mimetype": "text/x-python",
   "name": "python",
   "nbconvert_exporter": "python",
   "pygments_lexer": "ipython2",
   "version": "2.7.8"
  }
 },
 "nbformat": 4,
 "nbformat_minor": 2
}
