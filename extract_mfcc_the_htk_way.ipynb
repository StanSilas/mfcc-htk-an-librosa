{
 "cells": [
  {
   "cell_type": "code",
   "execution_count": null,
   "metadata": {
    "collapsed": false
   },
   "outputs": [],
   "source": [
    "#### this reproduces the way htk extracts MFCC with the default configuration:\n",
    "# SOURCEFORMAT = WAV\n",
    "# TARGETKIND = MFCC_0\n",
    "# TARGETRATE = 100000.0\n",
    "# SAVECOMPRESSED = T\n",
    "# SAVEWITHCRC = T\n",
    "# WINDOWSIZE = 250000.0\n",
    "# USEHAMMING = T\n",
    "# PREEMCOEF = 0\n",
    "# NUMCHANS = 26\n",
    "# CEPLIFTER = 22\n",
    "# NUMCEPS = 12\n",
    "# ENORMALISE = F\n",
    "# HIFREQ=8000\n",
    "\n",
    "import essentia.standard as ess\n",
    "fs = 44100\n",
    "\n",
    "audio = ess.MonoLoader(filename = 'vignesh.wav', \n",
    "                                      sampleRate = fs)()\n",
    "# dynamic range expansion as done in HTK implementation\n",
    "audio = audio*2**15\n",
    "\n",
    "frameSize = 1102 # corresponds to htk default WINDOWSIZE = 250000.0 \n",
    "hopSize = 441 # corresponds to htk default TARGETRATE = 100000.0\n",
    "fftSize = 2048\n",
    "spectrumSize= fftSize//2+1\n",
    "zeroPadding = fftSize - frameSize\n",
    "\n",
    "w = ess.Windowing(type = 'hamming', #  corresponds to htk default  USEHAMMING = T\n",
    "                    size = frameSize, \n",
    "                    zeroPadding = zeroPadding,\n",
    "                    normalized = False,\n",
    "                    zeroPhase = False)\n",
    "\n",
    "spectrum = ess.Spectrum(size = fftSize)\n",
    "\n",
    "mfccEssentia = ess.MFCC(inputSize = spectrumSize,\n",
    "                    type = 'magnitude', # htk uses mel filterbank magniude\n",
    "                    warpingFormula = 'htkMel', # htk's mel warping formula\n",
    "                    weighting = 'linear', # computation of filter weights done in Hz domain\n",
    "                    highFrequencyBound = 8000, # corresponds to htk default\n",
    "                    lowFrequencyBound = 0, # corresponds to htk default\n",
    "                    numberBands = 26, # corresponds to htk default  NUMCHANS = 26\n",
    "                    numberCoefficients = 13,\n",
    "                    normalize = 'unit_max', # htk filter normaliation to have constant height = 1  \n",
    "                    dctType = 3, # htk uses DCT type III\n",
    "                    logType = 'log',\n",
    "                    liftering = 22) # corresponds to htk default CEPLIFTER = 22\n",
    "\n",
    "\n",
    "pool = Pool()\n",
    "# startFromZero = True, validFrameThresholdRatio = 1 : the way htk computes windows\n",
    "for frame in ess.FrameGenerator(audio, frameSize = frameSize, hopSize = hopSize , startFromZero = True, validFrameThresholdRatio = 1):\n",
    "    spect = spectrum(w(frame))\n",
    "    pool.add('MFCC',mfccEssentia(spect)[1])\n",
    "\n",
    "essentiaMFCC = np.array(pool['MFCC'].T);"
   ]
  },
  {
   "cell_type": "code",
   "execution_count": null,
   "metadata": {
    "collapsed": true
   },
   "outputs": [],
   "source": []
  }
 ],
 "metadata": {
  "kernelspec": {
   "display_name": "Python 2",
   "language": "python",
   "name": "python2"
  },
  "language_info": {
   "codemirror_mode": {
    "name": "ipython",
    "version": 2
   },
   "file_extension": ".py",
   "mimetype": "text/x-python",
   "name": "python",
   "nbconvert_exporter": "python",
   "pygments_lexer": "ipython2",
   "version": "2.7.8"
  }
 },
 "nbformat": 4,
 "nbformat_minor": 2
}
